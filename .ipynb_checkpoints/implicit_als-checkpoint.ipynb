{
 "cells": [
  {
   "cell_type": "code",
   "execution_count": 1,
   "metadata": {},
   "outputs": [],
   "source": [
    "import numpy as np\n",
    "#import scipy.sparse as sp\n",
    "import pandas as pd\n",
    "import tqdm\n",
    "from sklearn.metrics import mean_squared_error\n",
    "from sklearn.model_selection import train_test_split\n",
    "from IPython.display import clear_output\n",
    "#import torch \n",
    "import copy\n",
    "import dill\n",
    "from sklearn.base import BaseEstimator\n",
    "from lightgbm import LGBMRegressor\n",
    "from multiprocessing import Pool\n",
    "import matplotlib.pyplot  as plt\n",
    "from sklearn.model_selection import KFold"
   ]
  },
  {
   "cell_type": "code",
   "execution_count": 2,
   "metadata": {},
   "outputs": [
    {
     "data": {
      "text/html": [
       "<style>.container { width:100% !important; }</style>"
      ],
      "text/plain": [
       "<IPython.core.display.HTML object>"
      ]
     },
     "metadata": {},
     "output_type": "display_data"
    }
   ],
   "source": [
    "from IPython.core.display import display, HTML\n",
    "display(HTML(\"<style>.container { width:100% !important; }</style>\"))"
   ]
  },
  {
   "cell_type": "markdown",
   "metadata": {},
   "source": [
    "***Convert to csv***"
   ]
  },
  {
   "cell_type": "code",
   "execution_count": 3,
   "metadata": {},
   "outputs": [],
   "source": [
    "with open('train.txt', 'r') as f:\n",
    "    data = f.read()\n",
    "    data = data.replace('\\t', ',')\n",
    "    data = 'UserId,FilmId,Mark\\n' + data\n",
    "with open('train.csv', 'w') as f:\n",
    "    f.write(data)"
   ]
  },
  {
   "cell_type": "code",
   "execution_count": 4,
   "metadata": {},
   "outputs": [],
   "source": [
    "with open('test.txt', 'r') as f:\n",
    "    data = f.read()\n",
    "    data = data.replace('\\t', ',')\n",
    "    data = 'UserId,FilmId\\n' + data\n",
    "with open('test.csv', 'w') as f:\n",
    "    f.write(data)"
   ]
  },
  {
   "cell_type": "markdown",
   "metadata": {},
   "source": [
    "***Load Data***"
   ]
  },
  {
   "cell_type": "code",
   "execution_count": 5,
   "metadata": {},
   "outputs": [],
   "source": [
    "test_raw  = pd.read_csv('test.csv')\n",
    "train_raw = pd.read_csv('train.csv')"
   ]
  },
  {
   "cell_type": "code",
   "execution_count": 6,
   "metadata": {},
   "outputs": [
    {
     "data": {
      "text/html": [
       "<div>\n",
       "<style scoped>\n",
       "    .dataframe tbody tr th:only-of-type {\n",
       "        vertical-align: middle;\n",
       "    }\n",
       "\n",
       "    .dataframe tbody tr th {\n",
       "        vertical-align: top;\n",
       "    }\n",
       "\n",
       "    .dataframe thead th {\n",
       "        text-align: right;\n",
       "    }\n",
       "</style>\n",
       "<table border=\"1\" class=\"dataframe\">\n",
       "  <thead>\n",
       "    <tr style=\"text-align: right;\">\n",
       "      <th></th>\n",
       "      <th>UserId</th>\n",
       "      <th>FilmId</th>\n",
       "    </tr>\n",
       "  </thead>\n",
       "  <tbody>\n",
       "    <tr>\n",
       "      <th>0</th>\n",
       "      <td>1</td>\n",
       "      <td>20</td>\n",
       "    </tr>\n",
       "    <tr>\n",
       "      <th>1</th>\n",
       "      <td>1</td>\n",
       "      <td>33</td>\n",
       "    </tr>\n",
       "    <tr>\n",
       "      <th>2</th>\n",
       "      <td>1</td>\n",
       "      <td>61</td>\n",
       "    </tr>\n",
       "    <tr>\n",
       "      <th>3</th>\n",
       "      <td>1</td>\n",
       "      <td>117</td>\n",
       "    </tr>\n",
       "    <tr>\n",
       "      <th>4</th>\n",
       "      <td>1</td>\n",
       "      <td>155</td>\n",
       "    </tr>\n",
       "  </tbody>\n",
       "</table>\n",
       "</div>"
      ],
      "text/plain": [
       "   UserId  FilmId\n",
       "0       1      20\n",
       "1       1      33\n",
       "2       1      61\n",
       "3       1     117\n",
       "4       1     155"
      ]
     },
     "execution_count": 6,
     "metadata": {},
     "output_type": "execute_result"
    }
   ],
   "source": [
    "test_raw.head()"
   ]
  },
  {
   "cell_type": "code",
   "execution_count": 7,
   "metadata": {},
   "outputs": [
    {
     "data": {
      "text/html": [
       "<div>\n",
       "<style scoped>\n",
       "    .dataframe tbody tr th:only-of-type {\n",
       "        vertical-align: middle;\n",
       "    }\n",
       "\n",
       "    .dataframe tbody tr th {\n",
       "        vertical-align: top;\n",
       "    }\n",
       "\n",
       "    .dataframe thead th {\n",
       "        text-align: right;\n",
       "    }\n",
       "</style>\n",
       "<table border=\"1\" class=\"dataframe\">\n",
       "  <thead>\n",
       "    <tr style=\"text-align: right;\">\n",
       "      <th></th>\n",
       "      <th>UserId</th>\n",
       "      <th>FilmId</th>\n",
       "      <th>Mark</th>\n",
       "    </tr>\n",
       "  </thead>\n",
       "  <tbody>\n",
       "    <tr>\n",
       "      <th>0</th>\n",
       "      <td>1</td>\n",
       "      <td>1</td>\n",
       "      <td>5</td>\n",
       "    </tr>\n",
       "    <tr>\n",
       "      <th>1</th>\n",
       "      <td>1</td>\n",
       "      <td>2</td>\n",
       "      <td>3</td>\n",
       "    </tr>\n",
       "    <tr>\n",
       "      <th>2</th>\n",
       "      <td>1</td>\n",
       "      <td>3</td>\n",
       "      <td>4</td>\n",
       "    </tr>\n",
       "    <tr>\n",
       "      <th>3</th>\n",
       "      <td>1</td>\n",
       "      <td>4</td>\n",
       "      <td>3</td>\n",
       "    </tr>\n",
       "    <tr>\n",
       "      <th>4</th>\n",
       "      <td>1</td>\n",
       "      <td>5</td>\n",
       "      <td>3</td>\n",
       "    </tr>\n",
       "  </tbody>\n",
       "</table>\n",
       "</div>"
      ],
      "text/plain": [
       "   UserId  FilmId  Mark\n",
       "0       1       1     5\n",
       "1       1       2     3\n",
       "2       1       3     4\n",
       "3       1       4     3\n",
       "4       1       5     3"
      ]
     },
     "execution_count": 7,
     "metadata": {},
     "output_type": "execute_result"
    }
   ],
   "source": [
    "train_raw.head()"
   ]
  },
  {
   "cell_type": "markdown",
   "metadata": {},
   "source": [
    "***Write Submission***"
   ]
  },
  {
   "cell_type": "code",
   "execution_count": 8,
   "metadata": {},
   "outputs": [],
   "source": [
    "def write_submission(name_of_file, prediction):\n",
    "    df = pd.DataFrame()\n",
    "    df['Id'] = np.arange(1, len(test_raw) + 1)\n",
    "    df['Score'] = prediction\n",
    "    df.to_csv(name_of_file, index=False)"
   ]
  },
  {
   "cell_type": "markdown",
   "metadata": {},
   "source": [
    "***Convert to sparse matrix for ALS***"
   ]
  },
  {
   "cell_type": "code",
   "execution_count": 9,
   "metadata": {},
   "outputs": [],
   "source": [
    "def convert_to_sparse(df):\n",
    "    rows = []\n",
    "    cols = []\n",
    "    data = []\n",
    "    for d in range(len(df.index)):\n",
    "        cur_data = df.iloc[d]\n",
    "        rows.append(cur_data['UserId'])\n",
    "        cols.append(cur_data['FilmId'])\n",
    "        if 'Mark' in cur_data:\n",
    "            data.append(cur_data['Mark'])\n",
    "        else:\n",
    "            data.append(1)\n",
    "    return sp.csr_matrix((data, (rows, cols)))"
   ]
  },
  {
   "cell_type": "markdown",
   "metadata": {},
   "source": [
    "***ImplicitALS without bias***"
   ]
  },
  {
   "cell_type": "code",
   "execution_count": 10,
   "metadata": {},
   "outputs": [],
   "source": [
    "class ImplicitALS:\n",
    "    def __init__(self, lambda1=1, lambda2=1, \n",
    "                 n_epochs=35, latent_dim=3,\n",
    "                 user_size=944, item_size=1683):\n",
    "        self.lambda1 = lambda1\n",
    "        self.lambda2 = lambda2\n",
    "        self.n_epochs = n_epochs\n",
    "        self.latent_dim = latent_dim\n",
    "        self.user_size = user_size\n",
    "        self.item_size = item_size\n",
    "        self.X = np.random.randn(self.user_size, self.latent_dim)\n",
    "        self.Y = np.random.randn(self.item_size, self.latent_dim)\n",
    "        self.beta = np.random.randn(self.user_size)\n",
    "        self.gamma = np.random.randn(self.item_size)\n",
    "        self.mu = 0\n",
    "        self.C = np.zeros((self.user_size, self.item_size))\n",
    "        self.R = np.zeros((self.user_size, self.item_size))\n",
    "        self.users = set()\n",
    "        self.items = set()\n",
    "        self.mses = []\n",
    "    \n",
    "    def describe(self):\n",
    "        return 'unbiased_als ' + str([self.lambda1, self.lambda2, self.latent_dim, self.n_epochs])\n",
    "    \n",
    "    def fit(self, train_data, train_marks, eval_set=None, verbose=False):\n",
    "        self.mu = np.mean(train_marks)\n",
    "        self.R[train_data['UserId'], train_data['FilmId']] = train_marks\n",
    "        self.C[train_data['UserId'], train_data['FilmId']] = 1.0\n",
    "        \n",
    "        self.users = set(train_data['UserId'])\n",
    "        self.items = set(train_data['FilmId'])\n",
    "        \n",
    "        masks_i = [self.R[:, i] > 0 for i in range(self.item_size)]\n",
    "        masks_u = [self.R[u, :] > 0 for u in range(self.user_size)]\n",
    "        \n",
    "        nonzero_i = [np.sum(self.R[:, i] > 0) for i in range(self.item_size)]\n",
    "        nonzero_u = [np.sum(self.R[u, :] > 0) for u in range(self.user_size)]\n",
    "        I = np.eye(self.latent_dim, self.latent_dim)\n",
    "        if verbose:\n",
    "            range_epochs = tqdm.tqdm(range(self.n_epochs))\n",
    "        else:\n",
    "            range_epochs = range(self.n_epochs)\n",
    "        for j in range_epochs:\n",
    "            \n",
    "            #item step\n",
    "            for i in range(self.item_size):\n",
    "                \n",
    "                if nonzero_i[i] == 0:\n",
    "                    continue\n",
    "                \n",
    "                mask = masks_i[i]\n",
    "                C_i = self.C[mask, i]\n",
    "                X_i = self.X[mask]\n",
    "                p_i = self.R[mask, i]\n",
    "                X_iT = X_i.T\n",
    "                d_i = C_i*p_i\n",
    "                INV = np.linalg.inv(np.dot(X_iT*C_i, X_i) + self.lambda1*I)\n",
    "                self.Y[i, :] = np.dot(INV, np.dot(X_iT, d_i))\n",
    "            \n",
    "            #user step            \n",
    "            for u in range(self.user_size):\n",
    "                \n",
    "                if nonzero_u[u] == 0:\n",
    "                    continue\n",
    "                \n",
    "                mask = masks_u[u]\n",
    "                C_u = self.C[u, mask]\n",
    "                Y_u = self.Y[mask]\n",
    "                p_u = self.R[u, mask]\n",
    "                Y_uT = Y_u.T\n",
    "                d_u = C_u*p_u\n",
    "                INV = np.linalg.inv(np.dot(Y_uT*C_u, Y_u) + self.lambda2*I)\n",
    "                self.X[u, :] = np.dot(INV, np.dot(Y_uT, d_u))\n",
    "            \n",
    "            if verbose:\n",
    "                clear_output(True)\n",
    "                predictions = np.dot(self.X, self.Y.T)\n",
    "                print(mean_squared_error(predictions[train_data['UserId'], train_data['FilmId']], train_marks))\n",
    "                if not eval_set is None:\n",
    "                    test_data = eval_set[0]\n",
    "                    test_marks = eval_set[1]\n",
    "                    prediction = predictions[test_data['UserId'], test_data['FilmId']]\n",
    "                    mask_ = [not(u in self.users and i in self.items) for u, i in zip(test_data['UserId'], test_data['FilmId'])]\n",
    "                    prediction[mask_] = 2.5\n",
    "                    print(mean_squared_error(prediction, test_marks))\n",
    "                \n",
    "    def predict(self, test_data):\n",
    "        predictions = np.dot(self.X, self.Y.T)\n",
    "        prediction = predictions[test_data['UserId'], test_data['FilmId']]\n",
    "        mask_ = [not(u in self.users and i in self.items) for u, i in zip(test_data['UserId'], test_data['FilmId'])]\n",
    "        prediction[mask_] = 2.5\n",
    "        return prediction"
   ]
  },
  {
   "cell_type": "markdown",
   "metadata": {},
   "source": [
    "***Implicit ALS with bias***"
   ]
  },
  {
   "cell_type": "code",
   "execution_count": 11,
   "metadata": {},
   "outputs": [],
   "source": [
    "class ImplicitALSBiased:\n",
    "    def __init__(self, lambda1=1, lambda2=1, \n",
    "                 n_epochs=35, latent_dim=3,\n",
    "                 user_size=944, item_size=1683):\n",
    "        self.lambda1 = lambda1\n",
    "        self.lambda2 = lambda2\n",
    "        self.n_epochs = n_epochs\n",
    "        self.latent_dim = latent_dim\n",
    "        self.user_size = user_size\n",
    "        self.item_size = item_size\n",
    "        self.X = np.random.randn(self.user_size, self.latent_dim + 2)\n",
    "        self.Y = np.random.randn(self.item_size, self.latent_dim + 2)\n",
    "        ####################\n",
    "        self.X[:, 0] = 1.0\n",
    "        self.Y[:, -1] = 1.0\n",
    "        ####################        \n",
    "        self.beta = 0.1*np.random.randn(self.user_size)\n",
    "        self.gamma = 0.1*np.random.randn(self.item_size)\n",
    "        self.mu = 0\n",
    "        self.C = np.zeros((self.user_size, self.item_size))\n",
    "        self.R = np.zeros((self.user_size, self.item_size))\n",
    "        self.users = set()\n",
    "        self.items = set()\n",
    "        self.mses = []\n",
    "    \n",
    "    def describe(self):\n",
    "        return 'biased_als ' + str([self.lambda1, self.lambda2, self.latent_dim, self.latent_dim])\n",
    "    \n",
    "    def fit(self, train_data, train_marks, eval_set=None, C=None, verbose=False):\n",
    "        \n",
    "        self.mu = np.mean(train_marks)\n",
    "        \n",
    "        self.R[train_data['UserId'], train_data['FilmId']] = train_marks\n",
    "        if C is None:\n",
    "            self.C[train_data['UserId'], train_data['FilmId']] = 1.0\n",
    "        else:\n",
    "            self.C[train_data['UserId'], train_data['FilmId']] = C\n",
    "        \n",
    "        self.users = set(train_data['UserId'])\n",
    "        self.items = set(train_data['FilmId'])\n",
    "        \n",
    "        masks_i = [self.R[:, i] > 0 for i in range(self.item_size)]\n",
    "        masks_u = [self.R[u, :] > 0 for u in range(self.user_size)]\n",
    "        \n",
    "        nonzero_i = [np.sum(self.R[:, i] > 0) for i in range(self.item_size)]\n",
    "        nonzero_u = [np.sum(self.R[u, :] > 0) for u in range(self.user_size)]\n",
    "        \n",
    "        I = np.eye(self.latent_dim + 1, self.latent_dim + 1)\n",
    "        \n",
    "        if verbose:\n",
    "            range_epochs = tqdm.tqdm(range(self.n_epochs))\n",
    "        else:\n",
    "            range_epochs = range(self.n_epochs)\n",
    "            \n",
    "        \n",
    "        for j in range_epochs:\n",
    "            \n",
    "            #item step\n",
    "            for i in range(self.item_size):\n",
    "                \n",
    "                if nonzero_i[i] == 0:\n",
    "                    continue\n",
    "                \n",
    "                mask = masks_i[i]\n",
    "                C_i = self.C[mask, i]\n",
    "                X_i = self.X[mask, :-1]\n",
    "                p_i = self.R[mask, i] - self.X[mask, -1] - self.mu\n",
    "                X_iT = X_i.T\n",
    "                d_i = C_i*p_i\n",
    "                INV = np.linalg.inv(np.dot(X_iT*C_i, X_i) + self.lambda1*I)\n",
    "                self.Y[i, :-1] = np.dot(INV, np.dot(X_iT, d_i))\n",
    "            \n",
    "            #user step            \n",
    "            for u in range(self.user_size):\n",
    "                \n",
    "                if nonzero_u[u] == 0:\n",
    "                    continue\n",
    "                \n",
    "                mask = masks_u[u]\n",
    "                C_u = self.C[u, mask]\n",
    "                Y_u = self.Y[mask, 1:]\n",
    "                p_u = self.R[u, mask] - self.Y[mask, 0] - self.mu\n",
    "                Y_uT = Y_u.T\n",
    "                d_u = C_u*p_u\n",
    "                INV = np.linalg.inv(np.dot(Y_uT*C_u, Y_u) + self.lambda2*I)\n",
    "                self.X[u, 1:] = np.dot(INV, np.dot(Y_uT, d_u))\n",
    "            \n",
    "            if verbose:\n",
    "                clear_output(True)\n",
    "                predictions = np.dot(self.X, self.Y.T)\n",
    "                print(mean_squared_error(self.mu + predictions[train_data['UserId'], train_data['FilmId']], train_marks))\n",
    "                if not eval_set is None:\n",
    "                    test_data = eval_set[0]\n",
    "                    test_marks = eval_set[1]\n",
    "                    prediction = self.mu + predictions[test_data['UserId'], test_data['FilmId']]\n",
    "                    mask_ = [not(u in self.users and i in self.items) for u, i in zip(test_data['UserId'], test_data['FilmId'])]\n",
    "                    prediction[mask_] = self.mu\n",
    "                    mask_ = [u not in self.users and i in self.items for u, i in zip(test_data['UserId'], test_data['FilmId'])]\n",
    "                    prediction[mask_] = self.mu + self.Y[test_data['FilmId'][mask_], 0]\n",
    "                    mask_ = [u in self.users and i not in self.items for u, i in zip(test_data['UserId'], test_data['FilmId'])]\n",
    "                    prediction[mask_] = self.mu + self.X[test_data['UserId'][mask_], -1]\n",
    "                    print(mean_squared_error(prediction, test_marks))\n",
    "                \n",
    "    def predict(self, test_data):\n",
    "        predictions = np.dot(self.X, self.Y.T)\n",
    "        prediction = self.mu + predictions[test_data['UserId'], test_data['FilmId']]\n",
    "        mask_ = [not(u in self.users and i in self.items) for u, i in zip(test_data['UserId'], test_data['FilmId'])]\n",
    "        prediction[mask_] = self.mu\n",
    "        mask_ = [u not in self.users and i in self.items for u, i in zip(test_data['UserId'], test_data['FilmId'])]\n",
    "        prediction[mask_] = self.mu + self.Y[test_data['FilmId'][mask_], 0]\n",
    "        mask_ = [u in self.users and i not in self.items for u, i in zip(test_data['UserId'], test_data['FilmId'])]\n",
    "        prediction[mask_] = self.mu + self.X[test_data['UserId'][mask_], -1]\n",
    "        return prediction\n",
    "    \n",
    "    def predict_semisupervise(self, test_data):\n",
    "        predictions = np.dot(self.X, self.Y.T)\n",
    "        prediction = self.mu + predictions[test_data['UserId'], test_data['FilmId']]\n",
    "        mask_ = [not(u in self.users or i in self.items) for u, i in zip(test_data['UserId'], test_data['FilmId'])]\n",
    "        return prediction, mask_"
   ]
  },
  {
   "cell_type": "code",
   "execution_count": 12,
   "metadata": {},
   "outputs": [],
   "source": [
    "def func(i):\n",
    "    if i < 10:\n",
    "        return 0.95\n",
    "    elif i < 25:\n",
    "        return 0.9\n",
    "    elif i < 40:\n",
    "        return 0.75\n",
    "    elif i < 100:\n",
    "        return 0.5\n",
    "    else:\n",
    "        return 0.2"
   ]
  },
  {
   "cell_type": "code",
   "execution_count": 13,
   "metadata": {},
   "outputs": [],
   "source": [
    "class SemiSuperviseIALS:\n",
    "    def __init__(self, ss_ials):\n",
    "        self.models = copy.deepcopy(ss_ials)\n",
    "        self.implicit_models = None\n",
    "        self.explicit_models = None\n",
    "    \n",
    "    def describe(self):\n",
    "        return 'ss_ials ' + self.models[0].describe()\n",
    "    \n",
    "    def fit(self, n_added, train_data, train_marks, test_data, verbose=False):\n",
    "        explicit_models = copy.deepcopy(self.models)\n",
    "        predictions = []\n",
    "        C = np.ones(train_marks.shape[0])\n",
    "        if verbose:\n",
    "            range_models = tqdm.tqdm(range(len(explicit_models)))\n",
    "        else:\n",
    "            range_models = range(len(explicit_models))\n",
    "        for i in range_models:\n",
    "            new_index = np.random.permutation(train_marks.shape[0])[:-1000]\n",
    "            explicit_models[i].fit(train_data.iloc[new_index], train_marks.iloc[new_index])\n",
    "            cur_pred, cur_mask = explicit_models[i].predict_semisupervise(test_data)\n",
    "            predictions.append(cur_pred)\n",
    "        self.explicit_models = explicit_models\n",
    "        predictions = np.array(predictions) \n",
    "        predictions_vars = np.var(predictions, axis=0)\n",
    "        predictions_old = np.array(predictions)\n",
    "        predictions = np.mean(predictions, axis=0)\n",
    "        args = np.argsort(predictions_vars)[:n_added]\n",
    "        candidates = test_data.iloc[args]\n",
    "        candidates_marks = pd.DataFrame(predictions[args])\n",
    "        new_train_marks = pd.concat((train_marks, candidates_marks), axis=0).squeeze(1)\n",
    "        new_train_data = pd.concat((train_data, candidates), axis=0)\n",
    "        C = np.concatenate((C, np.array([func(i) for i in range(n_added)])))\n",
    "        self.implicit_models = copy.deepcopy(self.models)\n",
    "        predictions = []\n",
    "        if verbose:\n",
    "            range_models = tqdm.tqdm(range(len(explicit_models)))\n",
    "        else:\n",
    "            range_models = range(len(explicit_models))\n",
    "        for i in range_models:\n",
    "            self.implicit_models[i].fit(new_train_data, new_train_marks, C=C)\n",
    "            #cur_pred = self.implicit_models[i].predict(test_data)\n",
    "            #predictions.append(cur_pred)\n",
    "        #predictions = np.array(predictions)\n",
    "        #predictions = np.mean(predictions, axis=0)\n",
    "        #return predictions, predictions_old\n",
    "    \n",
    "    def predict(self, test_data):\n",
    "        predictions = []\n",
    "        for i in range(len(self.implicit_models)):\n",
    "            predictions.append(self.implicit_models[i].predict(test_data))\n",
    "            predictions.append(self.explicit_models[i].predict(test_data))\n",
    "        predictions = np.array(predictions)\n",
    "        return np.mean(predictions, axis=0)"
   ]
  },
  {
   "cell_type": "code",
   "execution_count": 14,
   "metadata": {},
   "outputs": [],
   "source": [
    "def train_model(data):\n",
    "    model = copy.deepcopy(data[0])\n",
    "    train_raw = data[1]\n",
    "    test_raw = data[2]\n",
    "    model.fit(train_raw[['UserId', 'FilmId']], train_raw['Mark'])\n",
    "    prediction = model.predict(test_raw)\n",
    "    return {'model':model.describe(), 'test_prediction':prediction} "
   ]
  },
  {
   "cell_type": "code",
   "execution_count": 15,
   "metadata": {},
   "outputs": [],
   "source": [
    "def stack_model(data):\n",
    "    model = data[0]\n",
    "    train_raw = data[1]\n",
    "    kf = KFold(n_splits=4, shuffle=True, random_state=42)\n",
    "    prediction = np.zeros(train_raw.shape[0])\n",
    "    for train_index, test_index in kf.split(train_raw):\n",
    "        train_kf, test_kf = train_raw.iloc[train_index], train_raw.iloc[test_index]\n",
    "        model_kf = copy.deepcopy(model)\n",
    "        model_kf.fit(train_kf[['UserId', 'FilmId']], train_kf['Mark'])\n",
    "        cur_pred = model_kf.predict(test_kf[['UserId', 'FilmId']])\n",
    "        prediction[test_index] = cur_pred\n",
    "    return {'model':model.describe(), 'prediction':prediction}   "
   ]
  },
  {
   "cell_type": "code",
   "execution_count": 16,
   "metadata": {},
   "outputs": [],
   "source": [
    "def stack_implicit_model(data):\n",
    "    model = copy.deepcopy(data[0])\n",
    "    train_raw = data[1]\n",
    "    kf = KFold(n_splits=4, shuffle=True, random_state=42)\n",
    "    prediction = np.zeros(train_raw.shape[0])\n",
    "    for train_index, test_index in kf.split(train_raw):\n",
    "        train_kf, test_kf = train_raw.iloc[train_index], train_raw.iloc[test_index]\n",
    "        model_kf = copy.deepcopy(model)\n",
    "        model_kf.fit(500, train_kf[['UserId', 'FilmId']], train_kf['Mark'], test_kf)\n",
    "        prediction[test_index] = model_kf.predict(test_kf)\n",
    "    return {'model':model.describe(), 'prediction':prediction}"
   ]
  },
  {
   "cell_type": "code",
   "execution_count": 17,
   "metadata": {},
   "outputs": [],
   "source": [
    "def train_implicit_model(data):\n",
    "    model = copy.deepcopy(data[0])\n",
    "    train_raw = data[1]\n",
    "    test_raw = data[2]\n",
    "    model.fit(500, train_raw[['UserId', 'FilmId']], train_raw['Mark'], test_raw)\n",
    "    prediction = model.predict(test_raw)\n",
    "    return {'model': model.describe(), 'test_prediction':prediction}"
   ]
  },
  {
   "cell_type": "markdown",
   "metadata": {},
   "source": [
    "***Explicit ALS stacking***"
   ]
  },
  {
   "cell_type": "code",
   "execution_count": 18,
   "metadata": {},
   "outputs": [],
   "source": [
    "models = [ImplicitALS(latent_dim=4, lambda1=7, lambda2=7, n_epochs=40),\n",
    "         ImplicitALS(latent_dim=4, lambda1=10, lambda2=10, n_epochs=40),\n",
    "         ImplicitALS(latent_dim=4, lambda1=12, lambda2=12, n_epochs=40),\n",
    "         ImplicitALS(latent_dim=5, lambda1=5, lambda2=5, n_epochs=40),\n",
    "         ImplicitALS(latent_dim=5, lambda1=7, lambda2=7, n_epochs=40),\n",
    "         ImplicitALS(latent_dim=5, lambda1=10, lambda2=10, n_epochs=40),\n",
    "         ImplicitALS(latent_dim=5, lambda1=12, lambda2=12, n_epochs=40),\n",
    "         ImplicitALS(latent_dim=6, lambda1=5, lambda2=5, n_epochs=40),\n",
    "         ImplicitALS(latent_dim=6, lambda1=7, lambda2=7, n_epochs=40),\n",
    "         ImplicitALS(latent_dim=6, lambda1=10, lambda2=10, n_epochs=40),####\n",
    "         ImplicitALSBiased(latent_dim=4, lambda1=5, lambda2=5, n_epochs=40),\n",
    "         ImplicitALSBiased(latent_dim=4, lambda1=7, lambda2=7, n_epochs=40),\n",
    "         ImplicitALSBiased(latent_dim=4, lambda1=10, lambda2=10, n_epochs=40),\n",
    "         ImplicitALSBiased(latent_dim=4, lambda1=12, lambda2=12, n_epochs=40),\n",
    "         ImplicitALSBiased(latent_dim=5, lambda1=5, lambda2=5, n_epochs=40),\n",
    "         ImplicitALSBiased(latent_dim=5, lambda1=7, lambda2=7, n_epochs=40),\n",
    "         ImplicitALSBiased(latent_dim=5, lambda1=10, lambda2=10, n_epochs=40),\n",
    "         ImplicitALSBiased(latent_dim=5, lambda1=12, lambda2=12, n_epochs=40),\n",
    "         ImplicitALSBiased(latent_dim=6, lambda1=5, lambda2=5, n_epochs=40),\n",
    "         ImplicitALSBiased(latent_dim=6, lambda1=7, lambda2=7, n_epochs=40),\n",
    "         ImplicitALSBiased(latent_dim=6, lambda1=10, lambda2=10, n_epochs=40),\n",
    "         ImplicitALSBiased(latent_dim=6, lambda1=12, lambda2=12, n_epochs=40),\n",
    "         ImplicitALSBiased(latent_dim=6, lambda1=15, lambda2=15, n_epochs=40),\n",
    "         ImplicitALSBiased(latent_dim=8, lambda1=12, lambda2=12, n_epochs=40),\n",
    "         ImplicitALSBiased(latent_dim=4, lambda1=5, lambda2=5, n_epochs=65),\n",
    "         ImplicitALSBiased(latent_dim=4, lambda1=7, lambda2=7, n_epochs=65),\n",
    "         ImplicitALSBiased(latent_dim=4, lambda1=10, lambda2=10, n_epochs=65),\n",
    "         ImplicitALSBiased(latent_dim=4, lambda1=12, lambda2=12, n_epochs=65),\n",
    "         ImplicitALSBiased(latent_dim=5, lambda1=5, lambda2=5, n_epochs=65),\n",
    "         ImplicitALSBiased(latent_dim=5, lambda1=7, lambda2=7, n_epochs=65),\n",
    "         ImplicitALSBiased(latent_dim=5, lambda1=10, lambda2=10, n_epochs=65),\n",
    "         ImplicitALSBiased(latent_dim=5, lambda1=12, lambda2=12, n_epochs=65),\n",
    "         ImplicitALSBiased(latent_dim=6, lambda1=5, lambda2=5, n_epochs=65),\n",
    "         ImplicitALSBiased(latent_dim=6, lambda1=7, lambda2=7, n_epochs=65),\n",
    "         ImplicitALSBiased(latent_dim=6, lambda1=10, lambda2=10, n_epochs=65),\n",
    "         ImplicitALSBiased(latent_dim=6, lambda1=12, lambda2=12, n_epochs=65),\n",
    "         ImplicitALSBiased(latent_dim=6, lambda1=15, lambda2=15, n_epochs=65),\n",
    "         ImplicitALSBiased(latent_dim=8, lambda1=12, lambda2=12, n_epochs=65),\n",
    "         ImplicitALSBiased(latent_dim=4, lambda1=5, lambda2=5, n_epochs=25),\n",
    "         ImplicitALSBiased(latent_dim=4, lambda1=7, lambda2=7, n_epochs=25),\n",
    "         ImplicitALSBiased(latent_dim=4, lambda1=10, lambda2=10, n_epochs=25),\n",
    "         ImplicitALSBiased(latent_dim=4, lambda1=12, lambda2=12, n_epochs=25),\n",
    "         ImplicitALSBiased(latent_dim=5, lambda1=5, lambda2=5, n_epochs=25),\n",
    "         ImplicitALSBiased(latent_dim=5, lambda1=7, lambda2=7, n_epochs=25),\n",
    "         ImplicitALSBiased(latent_dim=5, lambda1=10, lambda2=10, n_epochs=25),\n",
    "         ImplicitALSBiased(latent_dim=5, lambda1=12, lambda2=12, n_epochs=25),\n",
    "         ImplicitALSBiased(latent_dim=6, lambda1=5, lambda2=5, n_epochs=25),\n",
    "         ImplicitALSBiased(latent_dim=6, lambda1=7, lambda2=7, n_epochs=25),\n",
    "         ImplicitALSBiased(latent_dim=6, lambda1=10, lambda2=10, n_epochs=25),\n",
    "         ImplicitALSBiased(latent_dim=6, lambda1=12, lambda2=12, n_epochs=25),\n",
    "         ImplicitALSBiased(latent_dim=6, lambda1=15, lambda2=15, n_epochs=25),\n",
    "         ImplicitALSBiased(latent_dim=8, lambda1=12, lambda2=12, n_epochs=25),\n",
    "         ImplicitALSBiased(latent_dim=4, lambda1=3, lambda2=5, n_epochs=40),\n",
    "         ImplicitALSBiased(latent_dim=4, lambda1=5, lambda2=3, n_epochs=40),\n",
    "         ImplicitALSBiased(latent_dim=4, lambda1=6, lambda2=10, n_epochs=40),\n",
    "         ImplicitALSBiased(latent_dim=4, lambda1=10, lambda2=6, n_epochs=40),\n",
    "         ImplicitALSBiased(latent_dim=5, lambda1=12, lambda2=7, n_epochs=40),\n",
    "         ImplicitALSBiased(latent_dim=5, lambda1=7, lambda2=12, n_epochs=40),\n",
    "         ImplicitALSBiased(latent_dim=5, lambda1=14, lambda2=7, n_epochs=40),\n",
    "         ImplicitALSBiased(latent_dim=5, lambda1=7, lambda2=14, n_epochs=40),\n",
    "         ImplicitALSBiased(latent_dim=6, lambda1=7, lambda2=5, n_epochs=40),\n",
    "         ImplicitALSBiased(latent_dim=6, lambda1=5, lambda2=7, n_epochs=40),\n",
    "         ImplicitALSBiased(latent_dim=6, lambda1=3, lambda2=10, n_epochs=40),\n",
    "         ImplicitALSBiased(latent_dim=6, lambda1=10, lambda2=3, n_epochs=40),\n",
    "         ImplicitALSBiased(latent_dim=6, lambda1=15, lambda2=9, n_epochs=40),\n",
    "         ImplicitALSBiased(latent_dim=8, lambda1=9, lambda2=15, n_epochs=40)]\n",
    "additional_params = dill.load(open('params.dill', 'rb'))\n",
    "additional_models = [ImplicitALSBiased(latent_dim=p[2], lambda1=p[0], lambda2=p[1], n_epochs=p[3]) for p in additional_params]\n",
    "models.extend(additional_models)"
   ]
  },
  {
   "cell_type": "code",
   "execution_count": 19,
   "metadata": {},
   "outputs": [],
   "source": [
    "data = [(model, copy.deepcopy(train_raw)) for model in models]\n",
    "data_train = [(model, copy.deepcopy(train_raw), copy.deepcopy(test_raw)) for model in models]\n",
    "dill.dump(models, open('explicit_models.dill', 'wb'))"
   ]
  },
  {
   "cell_type": "code",
   "execution_count": 20,
   "metadata": {},
   "outputs": [
    {
     "name": "stderr",
     "output_type": "stream",
     "text": [
      "100%|██████████| 107/107 [41:17<00:00, 23.15s/it]\n"
     ]
    }
   ],
   "source": [
    "stacking_explicit = []\n",
    "for d in tqdm.tqdm(data):\n",
    "    stacking_explicit.append(stack_model(d))"
   ]
  },
  {
   "cell_type": "code",
   "execution_count": 21,
   "metadata": {},
   "outputs": [],
   "source": [
    "dill.dump(stacking_explicit, open('stacking_explicit.dill', 'wb'))"
   ]
  },
  {
   "cell_type": "code",
   "execution_count": 22,
   "metadata": {},
   "outputs": [
    {
     "name": "stderr",
     "output_type": "stream",
     "text": [
      "100%|██████████| 107/107 [09:08<00:00,  5.13s/it]\n"
     ]
    }
   ],
   "source": [
    "test_explicit = []\n",
    "for d in tqdm.tqdm(data_train):\n",
    "    test_explicit.append(train_model(d))"
   ]
  },
  {
   "cell_type": "code",
   "execution_count": 23,
   "metadata": {},
   "outputs": [],
   "source": [
    "dill.dump(test_explicit, open('test_explicit.dill', 'wb'))"
   ]
  },
  {
   "cell_type": "markdown",
   "metadata": {},
   "source": [
    "***Implicit ALS stacking***"
   ]
  },
  {
   "cell_type": "code",
   "execution_count": 24,
   "metadata": {},
   "outputs": [],
   "source": [
    "sialses = [SemiSuperviseIALS([ImplicitALSBiased(latent_dim=3, lambda1=4, lambda2=4, n_epochs=45) for i in range(10)]),\n",
    "           SemiSuperviseIALS([ImplicitALSBiased(latent_dim=4, lambda1=4, lambda2=4, n_epochs=45) for i in range(10)]),\n",
    "           SemiSuperviseIALS([ImplicitALSBiased(latent_dim=4, lambda1=5, lambda2=5, n_epochs=45) for i in range(10)]),\n",
    "           SemiSuperviseIALS([ImplicitALSBiased(latent_dim=2, lambda1=4, lambda2=4, n_epochs=40) for i in range(10)]),\n",
    "           SemiSuperviseIALS([ImplicitALSBiased(latent_dim=5, lambda1=7, lambda2=7, n_epochs=40) for i in range(10)])]"
   ]
  },
  {
   "cell_type": "code",
   "execution_count": 25,
   "metadata": {},
   "outputs": [],
   "source": [
    "data_implicit = [(model, copy.deepcopy(train_raw)) for model in sialses]\n",
    "data_implicit_test = [(model, copy.deepcopy(train_raw), copy.deepcopy(test_raw)) for model in sialses]\n",
    "dill.dump(sialses, open('sialses.dill', 'wb'))"
   ]
  },
  {
   "cell_type": "code",
   "execution_count": 26,
   "metadata": {},
   "outputs": [
    {
     "name": "stderr",
     "output_type": "stream",
     "text": [
      "100%|██████████| 5/5 [32:46<00:00, 393.38s/it]\n"
     ]
    }
   ],
   "source": [
    "stacking_implicit = []\n",
    "for d in tqdm.tqdm(data_implicit):\n",
    "    stacking_implicit.append(stack_implicit_model(d))"
   ]
  },
  {
   "cell_type": "code",
   "execution_count": 27,
   "metadata": {},
   "outputs": [],
   "source": [
    "dill.dump(stacking_implicit, open('stacking_implicit.dill', 'wb'))"
   ]
  },
  {
   "cell_type": "code",
   "execution_count": 28,
   "metadata": {},
   "outputs": [
    {
     "name": "stderr",
     "output_type": "stream",
     "text": [
      "100%|██████████| 5/5 [08:33<00:00, 102.61s/it]\n"
     ]
    }
   ],
   "source": [
    "test_implicit = []\n",
    "for d in tqdm.tqdm(data_implicit_test):\n",
    "    test_implicit.append(train_implicit_model(d))"
   ]
  },
  {
   "cell_type": "code",
   "execution_count": 29,
   "metadata": {},
   "outputs": [],
   "source": [
    "dill.dump(test_implicit, open('test_implicit.dill', 'wb'))"
   ]
  },
  {
   "cell_type": "markdown",
   "metadata": {},
   "source": [
    "***Dataset for boosting***"
   ]
  },
  {
   "cell_type": "code",
   "execution_count": 30,
   "metadata": {},
   "outputs": [],
   "source": [
    "stacking_explicit = dill.load(open('stacking_explicit.dill', 'rb'))\n",
    "stacking_implicit = dill.load(open('stacking_implicit.dill', 'rb'))"
   ]
  },
  {
   "cell_type": "code",
   "execution_count": 31,
   "metadata": {},
   "outputs": [],
   "source": [
    "model_names = []\n",
    "predictions = []\n",
    "for i in stacking_explicit:\n",
    "    model_names.append(i['model'])\n",
    "    predictions.append(i['prediction'])\n",
    "for i in stacking_implicit:\n",
    "    model_names.append(i['model'])\n",
    "    predictions.append(i['prediction'])"
   ]
  },
  {
   "cell_type": "code",
   "execution_count": 32,
   "metadata": {},
   "outputs": [],
   "source": [
    "train_stacked = pd.DataFrame(predictions, index = model_names).T"
   ]
  },
  {
   "cell_type": "code",
   "execution_count": 33,
   "metadata": {},
   "outputs": [],
   "source": [
    "test_explicit = dill.load(open('test_explicit.dill', 'rb'))\n",
    "test_implicit = dill.load(open('test_implicit.dill', 'rb'))"
   ]
  },
  {
   "cell_type": "code",
   "execution_count": 34,
   "metadata": {},
   "outputs": [],
   "source": [
    "model_names = []\n",
    "predictions = []\n",
    "for i in test_explicit:\n",
    "    model_names.append(i['model'])\n",
    "    predictions.append(i['test_prediction'])\n",
    "for i in test_implicit:\n",
    "    model_names.append(i['model'])\n",
    "    predictions.append(i['test_prediction'])"
   ]
  },
  {
   "cell_type": "code",
   "execution_count": 35,
   "metadata": {},
   "outputs": [],
   "source": [
    "test_stacked = pd.DataFrame(predictions, index = model_names).T"
   ]
  },
  {
   "cell_type": "code",
   "execution_count": 36,
   "metadata": {},
   "outputs": [
    {
     "data": {
      "text/html": [
       "<div>\n",
       "<style scoped>\n",
       "    .dataframe tbody tr th:only-of-type {\n",
       "        vertical-align: middle;\n",
       "    }\n",
       "\n",
       "    .dataframe tbody tr th {\n",
       "        vertical-align: top;\n",
       "    }\n",
       "\n",
       "    .dataframe thead th {\n",
       "        text-align: right;\n",
       "    }\n",
       "</style>\n",
       "<table border=\"1\" class=\"dataframe\">\n",
       "  <thead>\n",
       "    <tr style=\"text-align: right;\">\n",
       "      <th></th>\n",
       "      <th>unbiased_als [7, 7, 4, 40]</th>\n",
       "      <th>unbiased_als [10, 10, 4, 40]</th>\n",
       "      <th>unbiased_als [12, 12, 4, 40]</th>\n",
       "      <th>unbiased_als [5, 5, 5, 40]</th>\n",
       "      <th>unbiased_als [7, 7, 5, 40]</th>\n",
       "      <th>unbiased_als [10, 10, 5, 40]</th>\n",
       "      <th>unbiased_als [12, 12, 5, 40]</th>\n",
       "      <th>unbiased_als [5, 5, 6, 40]</th>\n",
       "      <th>unbiased_als [7, 7, 6, 40]</th>\n",
       "      <th>unbiased_als [10, 10, 6, 40]</th>\n",
       "      <th>...</th>\n",
       "      <th>biased_als [8, 8, 3, 3]</th>\n",
       "      <th>biased_als [5, 5, 4, 4]</th>\n",
       "      <th>biased_als [6, 6, 3, 3]</th>\n",
       "      <th>biased_als [10, 10, 4, 4]</th>\n",
       "      <th>biased_als [8, 8, 4, 4]</th>\n",
       "      <th>ss_ials biased_als [4, 4, 3, 3]</th>\n",
       "      <th>ss_ials biased_als [4, 4, 4, 4]</th>\n",
       "      <th>ss_ials biased_als [5, 5, 4, 4]</th>\n",
       "      <th>ss_ials biased_als [4, 4, 2, 2]</th>\n",
       "      <th>ss_ials biased_als [7, 7, 5, 5]</th>\n",
       "    </tr>\n",
       "  </thead>\n",
       "  <tbody>\n",
       "    <tr>\n",
       "      <th>0</th>\n",
       "      <td>3.592601</td>\n",
       "      <td>3.733556</td>\n",
       "      <td>3.696535</td>\n",
       "      <td>3.532348</td>\n",
       "      <td>3.524818</td>\n",
       "      <td>3.482530</td>\n",
       "      <td>3.491156</td>\n",
       "      <td>3.534645</td>\n",
       "      <td>3.923361</td>\n",
       "      <td>3.909867</td>\n",
       "      <td>...</td>\n",
       "      <td>3.288667</td>\n",
       "      <td>3.522192</td>\n",
       "      <td>3.353738</td>\n",
       "      <td>3.714608</td>\n",
       "      <td>3.701243</td>\n",
       "      <td>3.336324</td>\n",
       "      <td>3.467200</td>\n",
       "      <td>3.649741</td>\n",
       "      <td>3.841463</td>\n",
       "      <td>3.795175</td>\n",
       "    </tr>\n",
       "    <tr>\n",
       "      <th>1</th>\n",
       "      <td>3.550760</td>\n",
       "      <td>3.509360</td>\n",
       "      <td>3.487067</td>\n",
       "      <td>3.521843</td>\n",
       "      <td>3.473323</td>\n",
       "      <td>3.392697</td>\n",
       "      <td>3.396442</td>\n",
       "      <td>3.519983</td>\n",
       "      <td>3.279215</td>\n",
       "      <td>3.286031</td>\n",
       "      <td>...</td>\n",
       "      <td>3.470855</td>\n",
       "      <td>3.281536</td>\n",
       "      <td>3.449982</td>\n",
       "      <td>3.391374</td>\n",
       "      <td>3.388822</td>\n",
       "      <td>3.442233</td>\n",
       "      <td>3.292226</td>\n",
       "      <td>3.300970</td>\n",
       "      <td>3.492179</td>\n",
       "      <td>3.306232</td>\n",
       "    </tr>\n",
       "    <tr>\n",
       "      <th>2</th>\n",
       "      <td>4.054709</td>\n",
       "      <td>4.064456</td>\n",
       "      <td>4.011243</td>\n",
       "      <td>4.147824</td>\n",
       "      <td>4.066299</td>\n",
       "      <td>3.962364</td>\n",
       "      <td>3.932126</td>\n",
       "      <td>4.117941</td>\n",
       "      <td>4.062959</td>\n",
       "      <td>4.031632</td>\n",
       "      <td>...</td>\n",
       "      <td>3.830440</td>\n",
       "      <td>3.806959</td>\n",
       "      <td>3.849735</td>\n",
       "      <td>3.903995</td>\n",
       "      <td>3.892564</td>\n",
       "      <td>3.857864</td>\n",
       "      <td>3.790467</td>\n",
       "      <td>3.829250</td>\n",
       "      <td>4.021208</td>\n",
       "      <td>3.859430</td>\n",
       "    </tr>\n",
       "    <tr>\n",
       "      <th>3</th>\n",
       "      <td>3.378575</td>\n",
       "      <td>3.349753</td>\n",
       "      <td>3.378884</td>\n",
       "      <td>3.397274</td>\n",
       "      <td>3.476615</td>\n",
       "      <td>3.327078</td>\n",
       "      <td>3.353676</td>\n",
       "      <td>3.401224</td>\n",
       "      <td>3.610752</td>\n",
       "      <td>3.567498</td>\n",
       "      <td>...</td>\n",
       "      <td>3.400994</td>\n",
       "      <td>3.308071</td>\n",
       "      <td>3.316595</td>\n",
       "      <td>3.499542</td>\n",
       "      <td>3.579876</td>\n",
       "      <td>3.308004</td>\n",
       "      <td>3.388554</td>\n",
       "      <td>3.407134</td>\n",
       "      <td>3.196367</td>\n",
       "      <td>3.625017</td>\n",
       "    </tr>\n",
       "    <tr>\n",
       "      <th>4</th>\n",
       "      <td>2.406212</td>\n",
       "      <td>2.522759</td>\n",
       "      <td>2.532276</td>\n",
       "      <td>2.426052</td>\n",
       "      <td>2.392385</td>\n",
       "      <td>2.282347</td>\n",
       "      <td>2.322190</td>\n",
       "      <td>2.372856</td>\n",
       "      <td>2.003895</td>\n",
       "      <td>2.015269</td>\n",
       "      <td>...</td>\n",
       "      <td>2.338748</td>\n",
       "      <td>2.122675</td>\n",
       "      <td>2.333513</td>\n",
       "      <td>2.149856</td>\n",
       "      <td>2.112699</td>\n",
       "      <td>2.284969</td>\n",
       "      <td>2.175137</td>\n",
       "      <td>2.070347</td>\n",
       "      <td>2.441314</td>\n",
       "      <td>2.075735</td>\n",
       "    </tr>\n",
       "  </tbody>\n",
       "</table>\n",
       "<p>5 rows × 112 columns</p>\n",
       "</div>"
      ],
      "text/plain": [
       "   unbiased_als [7, 7, 4, 40]  unbiased_als [10, 10, 4, 40]  \\\n",
       "0                    3.592601                      3.733556   \n",
       "1                    3.550760                      3.509360   \n",
       "2                    4.054709                      4.064456   \n",
       "3                    3.378575                      3.349753   \n",
       "4                    2.406212                      2.522759   \n",
       "\n",
       "   unbiased_als [12, 12, 4, 40]  unbiased_als [5, 5, 5, 40]  \\\n",
       "0                      3.696535                    3.532348   \n",
       "1                      3.487067                    3.521843   \n",
       "2                      4.011243                    4.147824   \n",
       "3                      3.378884                    3.397274   \n",
       "4                      2.532276                    2.426052   \n",
       "\n",
       "   unbiased_als [7, 7, 5, 40]  unbiased_als [10, 10, 5, 40]  \\\n",
       "0                    3.524818                      3.482530   \n",
       "1                    3.473323                      3.392697   \n",
       "2                    4.066299                      3.962364   \n",
       "3                    3.476615                      3.327078   \n",
       "4                    2.392385                      2.282347   \n",
       "\n",
       "   unbiased_als [12, 12, 5, 40]  unbiased_als [5, 5, 6, 40]  \\\n",
       "0                      3.491156                    3.534645   \n",
       "1                      3.396442                    3.519983   \n",
       "2                      3.932126                    4.117941   \n",
       "3                      3.353676                    3.401224   \n",
       "4                      2.322190                    2.372856   \n",
       "\n",
       "   unbiased_als [7, 7, 6, 40]  unbiased_als [10, 10, 6, 40]  ...  \\\n",
       "0                    3.923361                      3.909867  ...   \n",
       "1                    3.279215                      3.286031  ...   \n",
       "2                    4.062959                      4.031632  ...   \n",
       "3                    3.610752                      3.567498  ...   \n",
       "4                    2.003895                      2.015269  ...   \n",
       "\n",
       "   biased_als [8, 8, 3, 3]  biased_als [5, 5, 4, 4]  biased_als [6, 6, 3, 3]  \\\n",
       "0                 3.288667                 3.522192                 3.353738   \n",
       "1                 3.470855                 3.281536                 3.449982   \n",
       "2                 3.830440                 3.806959                 3.849735   \n",
       "3                 3.400994                 3.308071                 3.316595   \n",
       "4                 2.338748                 2.122675                 2.333513   \n",
       "\n",
       "   biased_als [10, 10, 4, 4]  biased_als [8, 8, 4, 4]  \\\n",
       "0                   3.714608                 3.701243   \n",
       "1                   3.391374                 3.388822   \n",
       "2                   3.903995                 3.892564   \n",
       "3                   3.499542                 3.579876   \n",
       "4                   2.149856                 2.112699   \n",
       "\n",
       "   ss_ials biased_als [4, 4, 3, 3]  ss_ials biased_als [4, 4, 4, 4]  \\\n",
       "0                         3.336324                         3.467200   \n",
       "1                         3.442233                         3.292226   \n",
       "2                         3.857864                         3.790467   \n",
       "3                         3.308004                         3.388554   \n",
       "4                         2.284969                         2.175137   \n",
       "\n",
       "   ss_ials biased_als [5, 5, 4, 4]  ss_ials biased_als [4, 4, 2, 2]  \\\n",
       "0                         3.649741                         3.841463   \n",
       "1                         3.300970                         3.492179   \n",
       "2                         3.829250                         4.021208   \n",
       "3                         3.407134                         3.196367   \n",
       "4                         2.070347                         2.441314   \n",
       "\n",
       "   ss_ials biased_als [7, 7, 5, 5]  \n",
       "0                         3.795175  \n",
       "1                         3.306232  \n",
       "2                         3.859430  \n",
       "3                         3.625017  \n",
       "4                         2.075735  \n",
       "\n",
       "[5 rows x 112 columns]"
      ]
     },
     "execution_count": 36,
     "metadata": {},
     "output_type": "execute_result"
    }
   ],
   "source": [
    "test_stacked.head()"
   ]
  },
  {
   "cell_type": "markdown",
   "metadata": {},
   "source": [
    "***Boosting***"
   ]
  },
  {
   "cell_type": "code",
   "execution_count": 37,
   "metadata": {},
   "outputs": [],
   "source": [
    "y_train = train_raw['Mark']\n",
    "X_train = train_stacked.values\n",
    "X_test = test_stacked.values"
   ]
  },
  {
   "cell_type": "code",
   "execution_count": 38,
   "metadata": {},
   "outputs": [
    {
     "name": "stdout",
     "output_type": "stream",
     "text": [
      "Min MSE -  0.8037962968773544 Min iter -  150 Cur MSE -  0.8038601486458635\n"
     ]
    },
    {
     "data": {
      "image/png": "[encoded data removed]",
      "text/plain": [
       "<Figure size 1080x720 with 1 Axes>"
      ]
     },
     "metadata": {
      "needs_background": "light"
     },
     "output_type": "display_data"
    },
    {
     "name": "stderr",
     "output_type": "stream",
     "text": [
      "100%|██████████| 500/500 [44:01<00:00,  5.28s/it]\n"
     ]
    }
   ],
   "source": [
    "bagging = []\n",
    "prediction = np.zeros_like(y_train).astype(float)\n",
    "s1 = set(np.arange(0, y_train.shape[0]))\n",
    "norms = np.zeros_like(prediction).astype(float) + 1e-100\n",
    "mses = []\n",
    "estimators = []\n",
    "for i in tqdm.tqdm(range(500)):\n",
    "    index_bagg = np.random.randint(low=0, high=y_train.shape[0], size=y_train.shape[0])\n",
    "    #print(y_train.shape[0])\n",
    "    #print(X_train.shape[0])\n",
    "    X_bagg = X_train[index_bagg]\n",
    "    y_bagg = y_train[index_bagg]\n",
    "    #print(X_bagg.shape[0])\n",
    "    \n",
    "    lgbm = LGBMRegressor(n_estimators=400, learning_rate=0.05, max_depth=4, num_leaves=100)\n",
    "    #lgbm = CatBoostRegressor(n_estimators=200, learning_rate=0.05, max_depth=4, verbose=False, task_type='GPU')\n",
    "    lgbm.fit(X_bagg, y_bagg)\n",
    "    s2 = set(index_bagg)\n",
    "    out_of_bag = list(s1 - s2)\n",
    "    X_oub = X_train[out_of_bag]\n",
    "    prediction[out_of_bag] += lgbm.predict(X_oub)\n",
    "    norms[out_of_bag] += 1.0\n",
    "    mses.append(mean_squared_error(prediction/norms, y_train))\n",
    "    estimators.append(lgbm)\n",
    "    if i % 20 == 0 and i != 0:\n",
    "        clear_output(True)\n",
    "        plt.figure(figsize=(15, 10))\n",
    "        plt.plot(mses)\n",
    "        print('Min MSE - ', np.min(mses), 'Min iter - ', np.argmin(mses), 'Cur MSE - ', mses[-1])\n",
    "        plt.show()"
   ]
  },
  {
   "cell_type": "code",
   "execution_count": 39,
   "metadata": {},
   "outputs": [],
   "source": [
    "prediction = np.zeros(len(test_stacked.index))\n",
    "for estim in estimators:\n",
    "    prediction += estim.predict(test_stacked.values)\n",
    "prediction /= len(estimators)"
   ]
  },
  {
   "cell_type": "code",
   "execution_count": 40,
   "metadata": {},
   "outputs": [],
   "source": [
    "test_prediction = pd.DataFrame()\n",
    "test_prediction['Id'] = np.arange(1, len(prediction) + 1)\n",
    "test_prediction['Score'] = prediction\n",
    "test_prediction['Id'] = np.arange(1, len(prediction) + 1)"
   ]
  },
  {
   "cell_type": "code",
   "execution_count": 41,
   "metadata": {},
   "outputs": [
    {
     "data": {
      "text/html": [
       "<div>\n",
       "<style scoped>\n",
       "    .dataframe tbody tr th:only-of-type {\n",
       "        vertical-align: middle;\n",
       "    }\n",
       "\n",
       "    .dataframe tbody tr th {\n",
       "        vertical-align: top;\n",
       "    }\n",
       "\n",
       "    .dataframe thead th {\n",
       "        text-align: right;\n",
       "    }\n",
       "</style>\n",
       "<table border=\"1\" class=\"dataframe\">\n",
       "  <thead>\n",
       "    <tr style=\"text-align: right;\">\n",
       "      <th></th>\n",
       "      <th>Id</th>\n",
       "      <th>Score</th>\n",
       "    </tr>\n",
       "  </thead>\n",
       "  <tbody>\n",
       "    <tr>\n",
       "      <th>0</th>\n",
       "      <td>1</td>\n",
       "      <td>3.731179</td>\n",
       "    </tr>\n",
       "    <tr>\n",
       "      <th>1</th>\n",
       "      <td>2</td>\n",
       "      <td>3.458940</td>\n",
       "    </tr>\n",
       "    <tr>\n",
       "      <th>2</th>\n",
       "      <td>3</td>\n",
       "      <td>4.061241</td>\n",
       "    </tr>\n",
       "    <tr>\n",
       "      <th>3</th>\n",
       "      <td>4</td>\n",
       "      <td>3.503913</td>\n",
       "    </tr>\n",
       "    <tr>\n",
       "      <th>4</th>\n",
       "      <td>5</td>\n",
       "      <td>2.218001</td>\n",
       "    </tr>\n",
       "  </tbody>\n",
       "</table>\n",
       "</div>"
      ],
      "text/plain": [
       "   Id     Score\n",
       "0   1  3.731179\n",
       "1   2  3.458940\n",
       "2   3  4.061241\n",
       "3   4  3.503913\n",
       "4   5  2.218001"
      ]
     },
     "execution_count": 41,
     "metadata": {},
     "output_type": "execute_result"
    }
   ],
   "source": [
    "test_prediction.head()"
   ]
  },
  {
   "cell_type": "code",
   "execution_count": 42,
   "metadata": {},
   "outputs": [],
   "source": [
    "test_prediction.to_csv('submission.csv', index=False)"
   ]
  },
  {
   "cell_type": "code",
   "execution_count": null,
   "metadata": {},
   "outputs": [],
   "source": []
  }
 ],
 "metadata": {
  "kernelspec": {
   "display_name": "Python 3",
   "language": "python",
   "name": "python3"
  },
  "language_info": {
   "codemirror_mode": {
    "name": "ipython",
    "version": 3
   },
   "file_extension": ".py",
   "mimetype": "text/x-python",
   "name": "python",
   "nbconvert_exporter": "python",
   "pygments_lexer": "ipython3",
   "version": "3.7.8"
  }
 },
 "nbformat": 4,
 "nbformat_minor": 4
}
